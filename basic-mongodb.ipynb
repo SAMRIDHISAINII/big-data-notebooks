{
 "cells": [
  {
   "cell_type": "markdown",
   "metadata": {},
   "source": [
    "The two lines below require the MongoDB Java client as well as a library called [Fongo](https://github.com/fakemongo/fongo) which lets us play around with MongoDB without actually needing a MongoDB server running.\n",
    "Fongo should **never** be used for any serious use case as the performance will"
   ]
  },
  {
   "cell_type": "code",
   "execution_count": 1,
   "metadata": {},
   "outputs": [],
   "source": [
    "%maven org.mongodb:mongodb-driver:3.5.0\n",
    "%maven com.github.fakemongo:fongo:2.1.0"
   ]
  },
  {
   "cell_type": "markdown",
   "metadata": {},
   "source": [
    "Before we do anything else, we need to create a connection to the server."
   ]
  },
  {
   "cell_type": "code",
   "execution_count": 2,
   "metadata": {},
   "outputs": [],
   "source": [
    "import com.github.fakemongo.Fongo;\n",
    "import com.mongodb.MongoClient;\n",
    "\n",
    "// Create a connection to our (fake) MongoDB instance\n",
    "// In a *real* program, we would instead use new MongoClient(host, port);\n",
    "MongoClient mongoClient = new Fongo(\"test\").getMongo();"
   ]
  },
  {
   "cell_type": "markdown",
   "metadata": {},
   "source": [
    "Let's insert some data so we have something to play with.\n",
    "Don't worry about the details right now.\n",
    "We're just connecting to the database `mydb` and inserting the contents of [`zips.json`](zips.json) into the `zips` collection."
   ]
  },
  {
   "cell_type": "code",
   "execution_count": 3,
   "metadata": {},
   "outputs": [
    {
     "data": {
      "text/plain": [
       "WriteResult{n=149, updateOfExisting=false, upsertedId=null}"
      ]
     },
     "execution_count": 3,
     "metadata": {},
     "output_type": "execute_result"
    }
   ],
   "source": [
    "import com.mongodb.DBObject;\n",
    "import org.bson.types.BasicBSONList;\n",
    "\n",
    "String zipsJson = new Scanner(new File(\"zips.json\")).useDelimiter(\"\\\\Z\").next();\n",
    "BasicBSONList obj = (BasicBSONList) com.mongodb.util.JSON.parse(zipsJson);\n",
    "mongoClient.getDB(\"mydb\").getCollection(\"zips\").insert((DBObject[]) obj.toArray(new DBObject[0]));"
   ]
  },
  {
   "cell_type": "markdown",
   "metadata": {},
   "source": [
    "Now that we have some documents to work with, let's write some queries.\n",
    "First we get a reference to the database and then the specific collection within the database.\n",
    "The variable `printBlock` will simply be used to display the results (more on blocks later)."
   ]
  },
  {
   "cell_type": "code",
   "execution_count": 4,
   "metadata": {},
   "outputs": [],
   "source": [
    "import com.mongodb.Block;\n",
    "import com.mongodb.client.MongoCollection;\n",
    "import com.mongodb.client.MongoDatabase;\n",
    "\n",
    "import org.bson.Document;\n",
    "\n",
    "MongoDatabase database = mongoClient.getDatabase(\"mydb\");\n",
    "MongoCollection<Document> collection = database.getCollection(\"zips\");\n",
    "\n",
    "Block<Document> printBlock = new Block<Document>() {\n",
    "       @Override\n",
    "       public void apply(final Document document) {\n",
    "           System.out.println(document.toJson());\n",
    "       }\n",
    "};"
   ]
  },
  {
   "cell_type": "markdown",
   "metadata": {},
   "source": [
    "The simplest query we can execute is to retrieve all the documents in our database which are printed by `printBlock`."
   ]
  },
  {
   "cell_type": "code",
   "execution_count": 5,
   "metadata": {},
   "outputs": [
    {
     "name": "stdout",
     "output_type": "stream",
     "text": [
      "{ \"_id\" : \"01701\", \"city\" : \"FRAMINGHAM\", \"loc\" : [-71.425486, 42.300665], \"pop\" : 65046, \"state\" : \"MA\" }\n",
      "{ \"_id\" : \"02154\", \"city\" : \"NORTH WALTHAM\", \"loc\" : [-71.236497, 42.382492], \"pop\" : 57871, \"state\" : \"MA\" }\n",
      "{ \"_id\" : \"02401\", \"city\" : \"BROCKTON\", \"loc\" : [-71.034348, 42.081571], \"pop\" : 59498, \"state\" : \"MA\" }\n",
      "{ \"_id\" : \"02840\", \"city\" : \"MIDDLETOWN\", \"loc\" : [-71.30348, 41.504502], \"pop\" : 47687, \"state\" : \"RI\" }\n",
      "{ \"_id\" : \"02860\", \"city\" : \"PAWTUCKET\", \"loc\" : [-71.390713, 41.872873], \"pop\" : 45442, \"state\" : \"RI\" }\n",
      "{ \"_id\" : \"02895\", \"city\" : \"NORTH SMITHFIELD\", \"loc\" : [-71.513683, 41.99948], \"pop\" : 53733, \"state\" : \"RI\" }\n",
      "{ \"_id\" : \"03060\", \"city\" : \"NASHUA\", \"loc\" : [-71.466684, 42.756395], \"pop\" : 41438, \"state\" : \"NH\" }\n",
      "{ \"_id\" : \"03103\", \"city\" : \"MANCHESTER\", \"loc\" : [-71.449325, 42.965563], \"pop\" : 36613, \"state\" : \"NH\" }\n",
      "{ \"_id\" : \"03301\", \"city\" : \"CONCORD\", \"loc\" : [-71.527734, 43.218525], \"pop\" : 34035, \"state\" : \"NH\" }\n",
      "{ \"_id\" : \"04240\", \"city\" : \"LEWISTON\", \"loc\" : [-70.191619, 44.098538], \"pop\" : 40173, \"state\" : \"ME\" }\n",
      "{ \"_id\" : \"04401\", \"city\" : \"BANGOR\", \"loc\" : [-68.791839, 44.824199], \"pop\" : 40434, \"state\" : \"ME\" }\n",
      "{ \"_id\" : \"05301\", \"city\" : \"BRATTLEBORO\", \"loc\" : [-72.593322, 42.857353], \"pop\" : 17522, \"state\" : \"VT\" }\n",
      "{ \"_id\" : \"05401\", \"city\" : \"BURLINGTON\", \"loc\" : [-73.219875, 44.484023], \"pop\" : 39127, \"state\" : \"VT\" }\n",
      "{ \"_id\" : \"05701\", \"city\" : \"RUTLAND\", \"loc\" : [-72.970773, 43.614131], \"pop\" : 22576, \"state\" : \"VT\" }\n",
      "{ \"_id\" : \"06010\", \"city\" : \"BRISTOL\", \"loc\" : [-72.930193, 41.682293], \"pop\" : 60670, \"state\" : \"CT\" }\n",
      "{ \"_id\" : \"06450\", \"city\" : \"MERIDEN\", \"loc\" : [-72.799734, 41.533396], \"pop\" : 59441, \"state\" : \"CT\" }\n",
      "{ \"_id\" : \"06902\", \"city\" : \"STAMFORD\", \"loc\" : [-73.537428, 41.052552], \"pop\" : 54605, \"state\" : \"CT\" }\n",
      "{ \"_id\" : \"07002\", \"city\" : \"BAYONNE\", \"loc\" : [-74.119169, 40.666399], \"pop\" : 61444, \"state\" : \"NJ\" }\n",
      "{ \"_id\" : \"07087\", \"city\" : \"WEEHAWKEN\", \"loc\" : [-74.030558, 40.768153], \"pop\" : 69646, \"state\" : \"NJ\" }\n",
      "{ \"_id\" : \"07111\", \"city\" : \"IRVINGTON\", \"loc\" : [-74.231271, 40.7261], \"pop\" : 60986, \"state\" : \"NJ\" }\n",
      "{ \"_id\" : \"10021\", \"city\" : \"NEW YORK\", \"loc\" : [-73.958805, 40.768476], \"pop\" : 106564, \"state\" : \"NY\" }\n",
      "{ \"_id\" : \"11226\", \"city\" : \"BROOKLYN\", \"loc\" : [-73.956985, 40.646694], \"pop\" : 111396, \"state\" : \"NY\" }\n",
      "{ \"_id\" : \"11373\", \"city\" : \"JACKSON HEIGHTS\", \"loc\" : [-73.878551, 40.740388], \"pop\" : 88241, \"state\" : \"NY\" }\n",
      "{ \"_id\" : \"17042\", \"city\" : \"CLEONA\", \"loc\" : [-76.425895, 40.335912], \"pop\" : 61993, \"state\" : \"PA\" }\n",
      "{ \"_id\" : \"18042\", \"city\" : \"FORKS TOWNSHIP\", \"loc\" : [-75.23582, 40.6867], \"pop\" : 65784, \"state\" : \"PA\" }\n",
      "{ \"_id\" : \"19143\", \"city\" : \"PHILADELPHIA\", \"loc\" : [-75.228819, 39.944815], \"pop\" : 80454, \"state\" : \"PA\" }\n",
      "{ \"_id\" : \"19711\", \"city\" : \"NEWARK\", \"loc\" : [-75.737534, 39.701129], \"pop\" : 50573, \"state\" : \"DE\" }\n",
      "{ \"_id\" : \"19720\", \"city\" : \"MANOR\", \"loc\" : [-75.589938, 39.67703], \"pop\" : 46906, \"state\" : \"DE\" }\n",
      "{ \"_id\" : \"19901\", \"city\" : \"DOVER\", \"loc\" : [-75.535983, 39.156639], \"pop\" : 46005, \"state\" : \"DE\" }\n",
      "{ \"_id\" : \"20011\", \"city\" : \"WASHINGTON\", \"loc\" : [-77.020251, 38.951786], \"pop\" : 62924, \"state\" : \"DC\" }\n",
      "{ \"_id\" : \"20301\", \"city\" : \"PENTAGON\", \"loc\" : [-77.038196, 38.891019], \"pop\" : 21, \"state\" : \"DC\" }\n",
      "{ \"_id\" : \"21061\", \"city\" : \"GLEN BURNIE\", \"loc\" : [-76.618862, 39.158968], \"pop\" : 75692, \"state\" : \"MD\" }\n",
      "{ \"_id\" : \"21207\", \"city\" : \"GWYNN OAK\", \"loc\" : [-76.734064, 39.329628], \"pop\" : 76002, \"state\" : \"MD\" }\n",
      "{ \"_id\" : \"21215\", \"city\" : \"BALTIMORE\", \"loc\" : [-76.679397, 39.344572], \"pop\" : 74402, \"state\" : \"MD\" }\n",
      "{ \"_id\" : \"22901\", \"city\" : \"CHARLOTTESVILLE\", \"loc\" : [-78.490869, 38.054752], \"pop\" : 62708, \"state\" : \"VA\" }\n",
      "{ \"_id\" : \"23464\", \"city\" : \"VIRGINIA BEACH\", \"loc\" : [-76.175909, 36.797772], \"pop\" : 67276, \"state\" : \"VA\" }\n",
      "{ \"_id\" : \"23602\", \"city\" : \"NEWPORT NEWS\", \"loc\" : [-76.532125, 37.131684], \"pop\" : 68525, \"state\" : \"VA\" }\n",
      "{ \"_id\" : \"25801\", \"city\" : \"BECKLEY\", \"loc\" : [-81.206084, 37.793214], \"pop\" : 45196, \"state\" : \"WV\" }\n",
      "{ \"_id\" : \"26003\", \"city\" : \"ELM GROVE\", \"loc\" : [-80.685126, 40.072736], \"pop\" : 49136, \"state\" : \"WV\" }\n",
      "{ \"_id\" : \"26505\", \"city\" : \"STAR CITY\", \"loc\" : [-79.954225, 39.633858], \"pop\" : 70185, \"state\" : \"WV\" }\n",
      "{ \"_id\" : \"27292\", \"city\" : \"LEXINGTON\", \"loc\" : [-80.262049, 35.82306], \"pop\" : 69179, \"state\" : \"NC\" }\n",
      "{ \"_id\" : \"28677\", \"city\" : \"STATESVILLE\", \"loc\" : [-80.894009, 35.799022], \"pop\" : 52895, \"state\" : \"NC\" }\n",
      "{ \"_id\" : \"29150\", \"city\" : \"OSWEGO\", \"loc\" : [-80.321008, 33.928199], \"pop\" : 46394, \"state\" : \"SC\" }\n",
      "{ \"_id\" : \"29501\", \"city\" : \"FLORENCE\", \"loc\" : [-79.772786, 34.18375], \"pop\" : 66990, \"state\" : \"SC\" }\n",
      "{ \"_id\" : \"29801\", \"city\" : \"AIKEN\", \"loc\" : [-81.719429, 33.553024], \"pop\" : 51233, \"state\" : \"SC\" }\n",
      "{ \"_id\" : \"30032\", \"city\" : \"DECATUR\", \"loc\" : [-84.263165, 33.740825], \"pop\" : 56056, \"state\" : \"GA\" }\n",
      "{ \"_id\" : \"30906\", \"city\" : \"PEACH ORCHARD\", \"loc\" : [-82.038358, 33.402024], \"pop\" : 58646, \"state\" : \"GA\" }\n",
      "{ \"_id\" : \"32216\", \"city\" : \"JACKSONVILLE\", \"loc\" : [-81.547387, 30.293907], \"pop\" : 58867, \"state\" : \"FL\" }\n",
      "{ \"_id\" : \"33012\", \"city\" : \"HIALEAH\", \"loc\" : [-80.3059, 25.865395], \"pop\" : 73194, \"state\" : \"FL\" }\n",
      "{ \"_id\" : \"33311\", \"city\" : \"FORT LAUDERDALE\", \"loc\" : [-80.172786, 26.142104], \"pop\" : 65378, \"state\" : \"FL\" }\n",
      "{ \"_id\" : \"35215\", \"city\" : \"CENTER POINT\", \"loc\" : [-86.693197, 33.635447], \"pop\" : 43862, \"state\" : \"AL\" }\n",
      "{ \"_id\" : \"35401\", \"city\" : \"TUSCALOOSA\", \"loc\" : [-87.562666, 33.196891], \"pop\" : 42124, \"state\" : \"AL\" }\n",
      "{ \"_id\" : \"35901\", \"city\" : \"SOUTHSIDE\", \"loc\" : [-86.010279, 33.997248], \"pop\" : 44165, \"state\" : \"AL\" }\n",
      "{ \"_id\" : \"37042\", \"city\" : \"CLARKSVILLE\", \"loc\" : [-87.418621, 36.585315], \"pop\" : 43296, \"state\" : \"TN\" }\n",
      "{ \"_id\" : \"37211\", \"city\" : \"NASHVILLE\", \"loc\" : [-86.724038, 36.072486], \"pop\" : 51478, \"state\" : \"TN\" }\n",
      "{ \"_id\" : \"38109\", \"city\" : \"MEMPHIS\", \"loc\" : [-90.073238, 35.042538], \"pop\" : 60508, \"state\" : \"TN\" }\n",
      "{ \"_id\" : \"39180\", \"city\" : \"VICKSBURG\", \"loc\" : [-90.85065, 32.325824], \"pop\" : 46968, \"state\" : \"MS\" }\n",
      "{ \"_id\" : \"39401\", \"city\" : \"HATTIESBURG\", \"loc\" : [-89.306471, 31.314553], \"pop\" : 41866, \"state\" : \"MS\" }\n",
      "{ \"_id\" : \"39440\", \"city\" : \"LAUREL\", \"loc\" : [-89.131155, 31.705444], \"pop\" : 45040, \"state\" : \"MS\" }\n",
      "{ \"_id\" : \"40214\", \"city\" : \"LOUISVILLE\", \"loc\" : [-85.778027, 38.159318], \"pop\" : 42198, \"state\" : \"KY\" }\n",
      "{ \"_id\" : \"40216\", \"city\" : \"SHIVELY\", \"loc\" : [-85.831771, 38.186138], \"pop\" : 41719, \"state\" : \"KY\" }\n",
      "{ \"_id\" : \"40601\", \"city\" : \"HATTON\", \"loc\" : [-84.88061, 38.192831], \"pop\" : 46563, \"state\" : \"KY\" }\n",
      "{ \"_id\" : \"44035\", \"city\" : \"ELYRIA\", \"loc\" : [-82.105088, 41.372353], \"pop\" : 66674, \"state\" : \"OH\" }\n",
      "{ \"_id\" : \"44060\", \"city\" : \"MENTOR\", \"loc\" : [-81.342133, 41.689468], \"pop\" : 60109, \"state\" : \"OH\" }\n",
      "{ \"_id\" : \"44107\", \"city\" : \"EDGEWATER\", \"loc\" : [-81.797143, 41.482654], \"pop\" : 59702, \"state\" : \"OH\" }\n",
      "{ \"_id\" : \"46360\", \"city\" : \"MICHIGAN CITY\", \"loc\" : [-86.869899, 41.698031], \"pop\" : 55392, \"state\" : \"IN\" }\n",
      "{ \"_id\" : \"47130\", \"city\" : \"JEFFERSONVILLE\", \"loc\" : [-85.735885, 38.307767], \"pop\" : 56543, \"state\" : \"IN\" }\n",
      "{ \"_id\" : \"47906\", \"city\" : \"WEST LAFAYETTE\", \"loc\" : [-86.923661, 40.444025], \"pop\" : 54702, \"state\" : \"IN\" }\n",
      "{ \"_id\" : \"48180\", \"city\" : \"TAYLOR\", \"loc\" : [-83.267269, 42.231738], \"pop\" : 70811, \"state\" : \"MI\" }\n",
      "{ \"_id\" : \"48185\", \"city\" : \"WESTLAND\", \"loc\" : [-83.374908, 42.318882], \"pop\" : 84712, \"state\" : \"MI\" }\n",
      "{ \"_id\" : \"48227\", \"city\" : \"DETROIT\", \"loc\" : [-83.193732, 42.388303], \"pop\" : 68390, \"state\" : \"MI\" }\n",
      "{ \"_id\" : \"50010\", \"city\" : \"AMES\", \"loc\" : [-93.639398, 42.029859], \"pop\" : 52105, \"state\" : \"IA\" }\n",
      "{ \"_id\" : \"50317\", \"city\" : \"PLEASANT HILL\", \"loc\" : [-93.549446, 41.612499], \"pop\" : 39883, \"state\" : \"IA\" }\n",
      "{ \"_id\" : \"52001\", \"city\" : \"DUBUQUE\", \"loc\" : [-90.681914, 42.514977], \"pop\" : 41934, \"state\" : \"IA\" }\n",
      "{ \"_id\" : \"53209\", \"city\" : \"MILWAUKEE\", \"loc\" : [-87.947834, 43.118765], \"pop\" : 51008, \"state\" : \"WI\" }\n",
      "{ \"_id\" : \"54401\", \"city\" : \"WAUSAU\", \"loc\" : [-89.633955, 44.963433], \"pop\" : 51083, \"state\" : \"WI\" }\n",
      "{ \"_id\" : \"54901\", \"city\" : \"OSHKOSH\", \"loc\" : [-88.543635, 44.021962], \"pop\" : 57187, \"state\" : \"WI\" }\n"
     ]
    },
    {
     "name": "stdout",
     "output_type": "stream",
     "text": [
      "{ \"_id\" : \"55106\", \"city\" : \"SAINT PAUL\", \"loc\" : [-93.048817, 44.968384], \"pop\" : 47905, \"state\" : \"MN\" }\n",
      "{ \"_id\" : \"55112\", \"city\" : \"NEW BRIGHTON\", \"loc\" : [-93.199691, 45.074129], \"pop\" : 44128, \"state\" : \"MN\" }\n",
      "{ \"_id\" : \"55337\", \"city\" : \"BURNSVILLE\", \"loc\" : [-93.275283, 44.76086], \"pop\" : 51421, \"state\" : \"MN\" }\n",
      "{ \"_id\" : \"57103\", \"city\" : \"SIOUX FALLS\", \"loc\" : [-96.686415, 43.537386], \"pop\" : 32508, \"state\" : \"SD\" }\n",
      "{ \"_id\" : \"57401\", \"city\" : \"ABERDEEN\", \"loc\" : [-98.485642, 45.466109], \"pop\" : 28786, \"state\" : \"SD\" }\n",
      "{ \"_id\" : \"57701\", \"city\" : \"ROCKERVILLE\", \"loc\" : [-103.200259, 44.077041], \"pop\" : 45328, \"state\" : \"SD\" }\n",
      "{ \"_id\" : \"58103\", \"city\" : \"FARGO\", \"loc\" : [-96.812252, 46.856406], \"pop\" : 38483, \"state\" : \"ND\" }\n",
      "{ \"_id\" : \"58501\", \"city\" : \"BISMARCK\", \"loc\" : [-100.774755, 46.823448], \"pop\" : 36602, \"state\" : \"ND\" }\n",
      "{ \"_id\" : \"58701\", \"city\" : \"MINOT\", \"loc\" : [-101.298476, 48.22914], \"pop\" : 42195, \"state\" : \"ND\" }\n",
      "{ \"_id\" : \"59102\", \"city\" : \"BILLINGS\", \"loc\" : [-108.572662, 45.781265], \"pop\" : 40121, \"state\" : \"MT\" }\n",
      "{ \"_id\" : \"59601\", \"city\" : \"HELENA\", \"loc\" : [-112.021283, 46.613066], \"pop\" : 40102, \"state\" : \"MT\" }\n",
      "{ \"_id\" : \"59801\", \"city\" : \"MISSOULA\", \"loc\" : [-114.025207, 46.856274], \"pop\" : 33811, \"state\" : \"MT\" }\n",
      "{ \"_id\" : \"60623\", \"city\" : \"CHICAGO\", \"loc\" : [-87.7157, 41.849015], \"pop\" : 112047, \"state\" : \"IL\" }\n",
      "{ \"_id\" : \"60634\", \"city\" : \"NORRIDGE\", \"loc\" : [-87.796054, 41.945213], \"pop\" : 69160, \"state\" : \"IL\" }\n",
      "{ \"_id\" : \"60650\", \"city\" : \"CICERO\", \"loc\" : [-87.76008, 41.84776], \"pop\" : 67670, \"state\" : \"IL\" }\n",
      "{ \"_id\" : \"63031\", \"city\" : \"FLORISSANT\", \"loc\" : [-90.340097, 38.806865], \"pop\" : 52659, \"state\" : \"MO\" }\n",
      "{ \"_id\" : \"63116\", \"city\" : \"SAINT LOUIS\", \"loc\" : [-90.262543, 38.581356], \"pop\" : 49014, \"state\" : \"MO\" }\n",
      "{ \"_id\" : \"63136\", \"city\" : \"JENNINGS\", \"loc\" : [-90.260189, 38.738878], \"pop\" : 54994, \"state\" : \"MO\" }\n",
      "{ \"_id\" : \"66502\", \"city\" : \"MANHATTAN\", \"loc\" : [-96.585776, 39.193757], \"pop\" : 50178, \"state\" : \"KS\" }\n",
      "{ \"_id\" : \"67212\", \"city\" : \"WICHITA\", \"loc\" : [-97.438344, 37.700683], \"pop\" : 41349, \"state\" : \"KS\" }\n",
      "{ \"_id\" : \"67401\", \"city\" : \"BAVARIA\", \"loc\" : [-97.608787, 38.823802], \"pop\" : 45208, \"state\" : \"KS\" }\n",
      "{ \"_id\" : \"68104\", \"city\" : \"OMAHA\", \"loc\" : [-95.999888, 41.29186], \"pop\" : 35325, \"state\" : \"NE\" }\n",
      "{ \"_id\" : \"68502\", \"city\" : \"LINCOLN\", \"loc\" : [-96.693763, 40.789282], \"pop\" : 27576, \"state\" : \"NE\" }\n",
      "{ \"_id\" : \"68847\", \"city\" : \"KEARNEY\", \"loc\" : [-99.077883, 40.713608], \"pop\" : 28674, \"state\" : \"NE\" }\n",
      "{ \"_id\" : \"70072\", \"city\" : \"MARRERO\", \"loc\" : [-90.110462, 29.859756], \"pop\" : 58905, \"state\" : \"LA\" }\n",
      "{ \"_id\" : \"70117\", \"city\" : \"NEW ORLEANS\", \"loc\" : [-90.03124, 29.970298], \"pop\" : 56494, \"state\" : \"LA\" }\n",
      "{ \"_id\" : \"70560\", \"city\" : \"NEW IBERIA\", \"loc\" : [-91.819959, 30.001027], \"pop\" : 56105, \"state\" : \"LA\" }\n",
      "{ \"_id\" : \"72032\", \"city\" : \"CONWAY\", \"loc\" : [-92.423574, 35.084199], \"pop\" : 43236, \"state\" : \"AR\" }\n",
      "{ \"_id\" : \"72076\", \"city\" : \"GRAVEL RIDGE\", \"loc\" : [-92.130435, 34.881985], \"pop\" : 37428, \"state\" : \"AR\" }\n",
      "{ \"_id\" : \"72401\", \"city\" : \"JONESBORO\", \"loc\" : [-90.696526, 35.833016], \"pop\" : 53532, \"state\" : \"AR\" }\n",
      "{ \"_id\" : \"73034\", \"city\" : \"EDMOND\", \"loc\" : [-97.479835, 35.666483], \"pop\" : 43814, \"state\" : \"OK\" }\n",
      "{ \"_id\" : \"73505\", \"city\" : \"LAWTON\", \"loc\" : [-98.455234, 34.617939], \"pop\" : 45542, \"state\" : \"OK\" }\n",
      "{ \"_id\" : \"74801\", \"city\" : \"SHAWNEE\", \"loc\" : [-96.931321, 35.34907], \"pop\" : 40076, \"state\" : \"OK\" }\n",
      "{ \"_id\" : \"78207\", \"city\" : \"SAN ANTONIO\", \"loc\" : [-98.525967, 29.422855], \"pop\" : 58355, \"state\" : \"TX\" }\n",
      "{ \"_id\" : \"78521\", \"city\" : \"BROWNSVILLE\", \"loc\" : [-97.461236, 25.922103], \"pop\" : 79463, \"state\" : \"TX\" }\n",
      "{ \"_id\" : \"78572\", \"city\" : \"ALTON\", \"loc\" : [-98.342647, 26.24153], \"pop\" : 67604, \"state\" : \"TX\" }\n",
      "{ \"_id\" : \"80123\", \"city\" : \"BOW MAR\", \"loc\" : [-105.07766, 39.596854], \"pop\" : 59418, \"state\" : \"CO\" }\n",
      "{ \"_id\" : \"80221\", \"city\" : \"FEDERAL HEIGHTS\", \"loc\" : [-105.007985, 39.840562], \"pop\" : 54069, \"state\" : \"CO\" }\n",
      "{ \"_id\" : \"80631\", \"city\" : \"GARDEN CITY\", \"loc\" : [-104.704756, 40.413968], \"pop\" : 53905, \"state\" : \"CO\" }\n",
      "{ \"_id\" : \"82001\", \"city\" : \"CHEYENNE\", \"loc\" : [-104.796234, 41.143719], \"pop\" : 33107, \"state\" : \"WY\" }\n",
      "{ \"_id\" : \"82070\", \"city\" : \"LARAMIE\", \"loc\" : [-105.581146, 41.312907], \"pop\" : 29327, \"state\" : \"WY\" }\n",
      "{ \"_id\" : \"82716\", \"city\" : \"GILLETTE\", \"loc\" : [-105.497442, 44.282009], \"pop\" : 25968, \"state\" : \"WY\" }\n",
      "{ \"_id\" : \"83301\", \"city\" : \"TWIN FALLS\", \"loc\" : [-114.469265, 42.556495], \"pop\" : 34539, \"state\" : \"ID\" }\n",
      "{ \"_id\" : \"83704\", \"city\" : \"BOISE\", \"loc\" : [-116.295099, 43.633001], \"pop\" : 40912, \"state\" : \"ID\" }\n",
      "{ \"_id\" : \"83814\", \"city\" : \"COEUR D ALENE\", \"loc\" : [-116.784976, 47.692841], \"pop\" : 33589, \"state\" : \"ID\" }\n",
      "{ \"_id\" : \"84118\", \"city\" : \"KEARNS\", \"loc\" : [-111.98521, 40.652759], \"pop\" : 55999, \"state\" : \"UT\" }\n",
      "{ \"_id\" : \"84120\", \"city\" : \"WEST VALLEY CITY\", \"loc\" : [-112.009783, 40.68708], \"pop\" : 52854, \"state\" : \"UT\" }\n",
      "{ \"_id\" : \"84604\", \"city\" : \"PROVO\", \"loc\" : [-111.654906, 40.260681], \"pop\" : 43841, \"state\" : \"UT\" }\n",
      "{ \"_id\" : \"85023\", \"city\" : \"PHOENIX\", \"loc\" : [-112.111838, 33.632383], \"pop\" : 54668, \"state\" : \"AZ\" }\n",
      "{ \"_id\" : \"85204\", \"city\" : \"MESA\", \"loc\" : [-111.789554, 33.399168], \"pop\" : 55180, \"state\" : \"AZ\" }\n",
      "{ \"_id\" : \"85364\", \"city\" : \"YUMA\", \"loc\" : [-114.642362, 32.701507], \"pop\" : 57131, \"state\" : \"AZ\" }\n",
      "{ \"_id\" : \"87501\", \"city\" : \"POJOAQUE VALLEY\", \"loc\" : [-105.974818, 35.702472], \"pop\" : 51715, \"state\" : \"NM\" }\n",
      "{ \"_id\" : \"88001\", \"city\" : \"LAS CRUCES\", \"loc\" : [-106.746034, 32.321641], \"pop\" : 57502, \"state\" : \"NM\" }\n",
      "{ \"_id\" : \"88201\", \"city\" : \"ROSWELL\", \"loc\" : [-104.525857, 33.388504], \"pop\" : 53644, \"state\" : \"NM\" }\n",
      "{ \"_id\" : \"89031\", \"city\" : \"NORTH LAS VEGAS\", \"loc\" : [-115.124832, 36.206228], \"pop\" : 48113, \"state\" : \"NV\" }\n",
      "{ \"_id\" : \"89115\", \"city\" : \"LAS VEGAS\", \"loc\" : [-115.067062, 36.215818], \"pop\" : 51532, \"state\" : \"NV\" }\n",
      "{ \"_id\" : \"89502\", \"city\" : \"RENO\", \"loc\" : [-119.776395, 39.497239], \"pop\" : 38332, \"state\" : \"NV\" }\n",
      "{ \"_id\" : \"90011\", \"city\" : \"LOS ANGELES\", \"loc\" : [-118.258189, 34.007856], \"pop\" : 96074, \"state\" : \"CA\" }\n",
      "{ \"_id\" : \"90201\", \"city\" : \"BELL GARDENS\", \"loc\" : [-118.17205, 33.969177], \"pop\" : 99568, \"state\" : \"CA\" }\n",
      "{ \"_id\" : \"90650\", \"city\" : \"NORWALK\", \"loc\" : [-118.081767, 33.90564], \"pop\" : 94188, \"state\" : \"CA\" }\n",
      "{ \"_id\" : \"96734\", \"city\" : \"KAILUA\", \"loc\" : [-157.744781, 21.406262], \"pop\" : 53403, \"state\" : \"HI\" }\n",
      "{ \"_id\" : \"96744\", \"city\" : \"KANEOHE\", \"loc\" : [-157.811543, 21.422819], \"pop\" : 55236, \"state\" : \"HI\" }\n",
      "{ \"_id\" : \"96818\", \"city\" : \"HONOLULU\", \"loc\" : [-157.926925, 21.353173], \"pop\" : 62915, \"state\" : \"HI\" }\n",
      "{ \"_id\" : \"97005\", \"city\" : \"BEAVERTON\", \"loc\" : [-122.805395, 45.475035], \"pop\" : 46660, \"state\" : \"OR\" }\n",
      "{ \"_id\" : \"97206\", \"city\" : \"PORTLAND\", \"loc\" : [-122.59727, 45.483995], \"pop\" : 43134, \"state\" : \"OR\" }\n",
      "{ \"_id\" : \"97301\", \"city\" : \"SALEM\", \"loc\" : [-122.979692, 44.926039], \"pop\" : 48007, \"state\" : \"OR\" }\n",
      "{ \"_id\" : \"98031\", \"city\" : \"KENT\", \"loc\" : [-122.193184, 47.388004], \"pop\" : 50515, \"state\" : \"WA\" }\n",
      "{ \"_id\" : \"98059\", \"city\" : \"RENTON\", \"loc\" : [-122.151178, 47.467383], \"pop\" : 48197, \"state\" : \"WA\" }\n",
      "{ \"_id\" : \"98310\", \"city\" : \"BREMERTON\", \"loc\" : [-122.629913, 47.601916], \"pop\" : 49057, \"state\" : \"WA\" }\n",
      "{ \"_id\" : \"99504\", \"city\" : \"ANCHORAGE\", \"loc\" : [-149.74467, 61.203696], \"pop\" : 32383, \"state\" : \"AK\" }\n",
      "{ \"_id\" : \"99709\", \"city\" : \"FAIRBANKS\", \"loc\" : [-147.846917, 64.85437], \"pop\" : 23238, \"state\" : \"AK\" }\n",
      "{ \"_id\" : \"99801\", \"city\" : \"JUNEAU\", \"loc\" : [-134.529429, 58.362767], \"pop\" : 24947, \"state\" : \"AK\" }\n"
     ]
    }
   ],
   "source": [
    "collection.find().forEach(printBlock);"
   ]
  },
  {
   "cell_type": "markdown",
   "metadata": {},
   "source": [
    "Now that we know what our data looks like, we can write some more interesting queries.\n",
    "In Java, we use a similar syntax to what we would use in the MongoDB shell.\n",
    "See the [MongoDB read documentation](https://mongodb.github.io/mongo-java-driver/3.9/driver/tutorials/perform-read-operations/) for more details."
   ]
  },
  {
   "cell_type": "code",
   "execution_count": 6,
   "metadata": {},
   "outputs": [
    {
     "name": "stdout",
     "output_type": "stream",
     "text": [
      "{ \"_id\" : \"97005\", \"city\" : \"BEAVERTON\" }\n",
      "{ \"_id\" : \"97301\", \"city\" : \"SALEM\" }\n"
     ]
    }
   ],
   "source": [
    "import com.mongodb.client.model.Filters;\n",
    "import com.mongodb.client.model.Projections;\n",
    "\n",
    "import static com.mongodb.client.model.Filters.and;\n",
    "import static com.mongodb.client.model.Filters.gte;\n",
    "import static com.mongodb.client.model.Filters.eq;\n",
    "import static com.mongodb.client.model.Projections.fields;\n",
    "import static com.mongodb.client.model.Projections.include;\n",
    "\n",
    "// The code below is equivalent to the following query in the MongoDB shell\n",
    "// db.zips.find({$and: [{state: {$eq: \"OR\"}}, {pop: {$gte: 44000}}]}, {city: 1})\n",
    "collection.find(and(eq(\"state\", \"OR\"), gte(\"pop\", 44000)))\n",
    "          .projection(fields(include(\"city\")))\n",
    "          .forEach(printBlock);"
   ]
  },
  {
   "cell_type": "markdown",
   "metadata": {},
   "source": [
    "That's it for this basic overview of MongoDB in Java.\n",
    "You should now be able to get started writing your own programs which interact with a database using this as a starting point.\n",
    "If you're just viewing the static output of this tutorial, go to [the repository](https://github.com/michaelmior/db-notebooks) and click the launch button.\n",
    "This will allow you to edit all the code interactively and try modifying it as you wish."
   ]
  }
 ],
 "metadata": {
  "kernelspec": {
   "display_name": "Java",
   "language": "java",
   "name": "java"
  },
  "language_info": {
   "codemirror_mode": "java",
   "file_extension": ".java",
   "mimetype": "text/x-java-source",
   "name": "Java",
   "pygments_lexer": "java",
   "version": "10.0.2+13"
  }
 },
 "nbformat": 4,
 "nbformat_minor": 2
}
