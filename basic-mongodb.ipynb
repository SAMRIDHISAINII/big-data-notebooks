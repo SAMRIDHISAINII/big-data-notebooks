{
 "cells": [
  {
   "cell_type": "markdown",
   "metadata": {},
   "source": [
    "The two lines below require the MongoDB Java client as well as a library called [Fongo](https://github.com/fakemongo/fongo) which lets us play around with MongoDB without actually needing a MongoDB server running.\n",
    "Fongo should **never** be used for any serious use case as the performance will"
   ]
  },
  {
   "cell_type": "code",
   "execution_count": 1,
   "metadata": {},
   "outputs": [],
   "source": [
    "%maven org.mongodb:mongodb-driver:3.5.0\n",
    "%maven com.github.fakemongo:fongo:2.1.0"
   ]
  },
  {
   "cell_type": "markdown",
   "metadata": {},
   "source": [
    "Before we do anything else, we need to create a connection to the server."
   ]
  },
  {
   "cell_type": "code",
   "execution_count": 2,
   "metadata": {},
   "outputs": [],
   "source": [
    "import com.github.fakemongo.Fongo;\n",
    "import com.mongodb.MongoClient;\n",
    "\n",
    "// Create a connection to our (fake) MongoDB instance\n",
    "// In a *real* program, we would instead use new MongoClient(host, port);\n",
    "MongoClient mongoClient = new Fongo(\"test\").getMongo();"
   ]
  },
  {
   "cell_type": "markdown",
   "metadata": {},
   "source": [
    "Let's insert some data so we have something to play with.\n",
    "Don't worry about the details right now.\n",
    "We're just connecting to the database `mydb` and inserting the contents of [`zips.json`](zips.json) into the `zips` collection."
   ]
  },
  {
   "cell_type": "code",
   "execution_count": 3,
   "metadata": {},
   "outputs": [
    {
     "data": {
      "text/plain": [
       "WriteResult{n=149, updateOfExisting=false, upsertedId=null}"
      ]
     },
     "execution_count": 3,
     "metadata": {},
     "output_type": "execute_result"
    }
   ],
   "source": [
    "import com.mongodb.DBObject;\n",
    "import org.bson.types.BasicBSONList;\n",
    "\n",
    "String zipsJson = new Scanner(new File(\"zips.json\")).useDelimiter(\"\\\\Z\").next();\n",
    "BasicBSONList obj = (BasicBSONList) com.mongodb.util.JSON.parse(zipsJson);\n",
    "mongoClient.getDB(\"mydb\").getCollection(\"zips\").insert((DBObject[]) obj.toArray(new DBObject[0]));"
   ]
  },
  {
   "cell_type": "markdown",
   "metadata": {},
   "source": [
    "Now that we have some documents to work with, let's write some queries.\n",
    "First we get a reference to the database and then the specific collection within the database.\n",
    "The variable `printBlock` will simply be used to display the results (more on blocks later)."
   ]
  },
  {
   "cell_type": "code",
   "execution_count": 4,
   "metadata": {},
   "outputs": [],
   "source": [
    "import com.mongodb.Block;\n",
    "import com.mongodb.client.MongoCollection;\n",
    "import com.mongodb.client.MongoDatabase;\n",
    "\n",
    "import org.bson.Document;\n",
    "\n",
    "MongoDatabase database = mongoClient.getDatabase(\"mydb\");\n",
    "MongoCollection<Document> collection = database.getCollection(\"zips\");\n",
    "\n",
    "Block<Document> printBlock = new Block<Document>() {\n",
    "       @Override\n",
    "       public void apply(final Document document) {\n",
    "           System.out.println(document.toJson());\n",
    "       }\n",
    "};"
   ]
  },
  {
   "cell_type": "markdown",
   "metadata": {},
   "source": [
    "The simplest query we can execute is to retrieve all the documents in our database which are printed by `printBlock`."
   ]
  },
  {
   "cell_type": "code",
   "execution_count": 5,
   "metadata": {},
   "outputs": [
    {
     "name": "stdout",
     "output_type": "stream",
     "text": [
      "{ \"_id\" : \"01701\", \"city\" : \"FRAMINGHAM\", \"loc\" : [-71.425486, 42.300665], \"pop\" : 65046, \"state\" : \"MA\" }\n",
      "{ \"_id\" : \"02154\", \"city\" : \"NORTH WALTHAM\", \"loc\" : [-71.236497, 42.382492], \"pop\" : 57871, \"state\" : \"MA\" }\n",
      "{ \"_id\" : \"02401\", \"city\" : \"BROCKTON\", \"loc\" : [-71.034348, 42.081571], \"pop\" : 59498, \"state\" : \"MA\" }\n",
      "{ \"_id\" : \"02840\", \"city\" : \"MIDDLETOWN\", \"loc\" : [-71.30348, 41.504502], \"pop\" : 47687, \"state\" : \"RI\" }\n",
      "{ \"_id\" : \"02860\", \"city\" : \"PAWTUCKET\", \"loc\" : [-71.390713, 41.872873], \"pop\" : 45442, \"state\" : \"RI\" }\n",
      "{ \"_id\" : \"02895\", \"city\" : \"NORTH SMITHFIELD\", \"loc\" : [-71.513683, 41.99948], \"pop\" : 53733, \"state\" : \"RI\" }\n",
      "{ \"_id\" : \"03060\", \"city\" : \"NASHUA\", \"loc\" : [-71.466684, 42.756395], \"pop\" : 41438, \"state\" : \"NH\" }\n",
      "{ \"_id\" : \"03103\", \"city\" : \"MANCHESTER\", \"loc\" : [-71.449325, 42.965563], \"pop\" : 36613, \"state\" : \"NH\" }\n",
      "{ \"_id\" : \"03301\", \"city\" : \"CONCORD\", \"loc\" : [-71.527734, 43.218525], \"pop\" : 34035, \"state\" : \"NH\" }\n",
      "{ \"_id\" : \"04240\", \"city\" : \"LEWISTON\", \"loc\" : [-70.191619, 44.098538], \"pop\" : 40173, \"state\" : \"ME\" }\n"
     ]
    }
   ],
   "source": [
    "collection.find().limit(10).forEach(printBlock);"
   ]
  },
  {
   "cell_type": "markdown",
   "metadata": {},
   "source": [
    "Now that we know what our data looks like, we can write some more interesting queries.\n",
    "In Java, we use a similar syntax to what we would use in the MongoDB shell.\n",
    "See the [MongoDB read documentation](https://mongodb.github.io/mongo-java-driver/3.9/driver/tutorials/perform-read-operations/) for more details."
   ]
  },
  {
   "cell_type": "code",
   "execution_count": 6,
   "metadata": {},
   "outputs": [
    {
     "name": "stdout",
     "output_type": "stream",
     "text": [
      "{ \"_id\" : \"97005\", \"city\" : \"BEAVERTON\" }\n",
      "{ \"_id\" : \"97301\", \"city\" : \"SALEM\" }\n"
     ]
    }
   ],
   "source": [
    "import com.mongodb.client.model.Filters;\n",
    "import com.mongodb.client.model.Projections;\n",
    "\n",
    "import static com.mongodb.client.model.Filters.and;\n",
    "import static com.mongodb.client.model.Filters.gte;\n",
    "import static com.mongodb.client.model.Filters.eq;\n",
    "import static com.mongodb.client.model.Projections.fields;\n",
    "import static com.mongodb.client.model.Projections.include;\n",
    "\n",
    "// The code below is equivalent to the following query in the MongoDB shell\n",
    "// db.zips.find({$and: [{state: {$eq: \"OR\"}}, {pop: {$gte: 44000}}]}, {city: 1})\n",
    "collection.find(and(eq(\"state\", \"OR\"), gte(\"pop\", 44000)))\n",
    "          .projection(fields(include(\"city\")))\n",
    "          .forEach(printBlock);"
   ]
  },
  {
   "cell_type": "markdown",
   "metadata": {},
   "source": [
    "That's it for this basic overview of MongoDB in Java.\n",
    "You should now be able to get started writing your own programs which interact with a database using this as a starting point.\n",
    "If you're just viewing the static output of this tutorial, go to [the repository](https://github.com/michaelmior/db-notebooks) and click the launch button.\n",
    "This will allow you to edit all the code interactively and try modifying it as you wish."
   ]
  }
 ],
 "metadata": {
  "kernelspec": {
   "display_name": "Java",
   "language": "java",
   "name": "java"
  },
  "language_info": {
   "codemirror_mode": "java",
   "file_extension": ".java",
   "mimetype": "text/x-java-source",
   "name": "Java",
   "pygments_lexer": "java",
   "version": "10.0.2+13"
  }
 },
 "nbformat": 4,
 "nbformat_minor": 2
}
