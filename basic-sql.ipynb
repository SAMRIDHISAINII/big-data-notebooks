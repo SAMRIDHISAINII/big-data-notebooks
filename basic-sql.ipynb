{
 "cells": [
  {
   "cell_type": "markdown",
   "metadata": {},
   "source": [
    "The line below simple requires a library called [SQLite](https://www.sqlite.org/index.html) which allows us to play around with SQL using a very simple in-memory database which doesn't require a connection to an outside server.\n",
    "When you connect to a real database, you will use another driver such as [PgJDBC](https://jdbc.postgresql.org/about/about.html) for PostgreSQL."
   ]
  },
  {
   "cell_type": "code",
   "execution_count": 1,
   "metadata": {},
   "outputs": [],
   "source": [
    "%maven org.xerial:sqlite-jdbc:3.25.2"
   ]
  },
  {
   "cell_type": "code",
   "execution_count": 2,
   "metadata": {},
   "outputs": [],
   "source": [
    "import java.sql.Connection;\n",
    "import java.sql.DriverManager;\n",
    "\n",
    "// First we get a connection to the database\n",
    "// \"sqlite\" here specifies the \"driver\" we are using.\n",
    "// Everything after the : are parameters to the driver\n",
    "// (in this case, we specify an in-memory database,\n",
    "//  this also means we don't actually need a username and password)\n",
    "\n",
    "Connection connection = DriverManager.getConnection(\"jdbc:sqlite::memory:\", \"username\", \"password\");\n",
    "\n",
    "// Note that to use PostgreSQL, you would use something like\n",
    "// jdbc:postgresql://hostname:portNumber"
   ]
  },
  {
   "cell_type": "markdown",
   "metadata": {},
   "source": [
    "Now that we have a connection, we can actually execute SQL statements against the database.\n",
    "First we need to create a `Statement` object which allows us execute statements.\n",
    "We can then use this statement to actually execute queries and updates.\n",
    "Let's start by creating a table."
   ]
  },
  {
   "cell_type": "code",
   "execution_count": 3,
   "metadata": {},
   "outputs": [
    {
     "data": {
      "text/plain": [
       "false"
      ]
     },
     "execution_count": 3,
     "metadata": {},
     "output_type": "execute_result"
    }
   ],
   "source": [
    "import java.sql.Statement;\n",
    "\n",
    "Statement statement = connection.createStatement();\n",
    "statement.execute(\"CREATE TABLE user(id INT PRIMARY KEY, firstName VARCHAR(10))\");"
   ]
  },
  {
   "cell_type": "markdown",
   "metadata": {},
   "source": [
    "`false` here returned from `execute` means that our statement was executed successfully, but produced no results (as expected).\n",
    "In general, an error could occur trying to execute our SQL, resulting in an `SQLException`.\n",
    "We can ignore those in this notebook, but you'll have to handle them when you write a real program.\n",
    "Let's try inserting some data into our new table.\n",
    "When we insert data, we'll use a **prepared statement**.\n",
    "A prepared statement allows us to efficiently insert parameters into our SQL and helps make sure our programs will not be vulnerable to [SQL injection](https://en.wikipedia.org/wiki/SQL_injection) attacks."
   ]
  },
  {
   "cell_type": "code",
   "execution_count": 4,
   "metadata": {},
   "outputs": [],
   "source": [
    "import java.sql.PreparedStatement;\n",
    "\n",
    "PreparedStatement prepared = connection.prepareStatement(\"INSERT INTO user VALUES (?, ?)\");"
   ]
  },
  {
   "cell_type": "markdown",
   "metadata": {},
   "source": [
    "The two `?` in the statement above stand for parameters which will be replaced by the actual values we want.\n",
    "The [`PreparedStatement`](https://docs.oracle.com/javase/8/docs/api/java/sql/PreparedStatement.html) class contains a number of methods starting with `set` which we use to set the parameters before execution."
   ]
  },
  {
   "cell_type": "code",
   "execution_count": 5,
   "metadata": {},
   "outputs": [
    {
     "data": {
      "text/plain": [
       "1"
      ]
     },
     "execution_count": 5,
     "metadata": {},
     "output_type": "execute_result"
    }
   ],
   "source": [
    "prepared.setInt(1, 32);         // Set the first parameter (user ID) to 32\n",
    "prepared.setString(2, \"Neha\");  // Set the second parameter (user name) to \"Neha\"\n",
    "prepared.execute();\n",
    "prepared.getUpdateCount();"
   ]
  },
  {
   "cell_type": "markdown",
   "metadata": {},
   "source": [
    "As you can see, after setting the parameters, we just call the `execute` method which executes the `INSERT` statement.\n",
    "The `getUpdateCount` call shows us that one row was updated (in this case, inserted).\n",
    "Let's insert a few more rows."
   ]
  },
  {
   "cell_type": "code",
   "execution_count": 6,
   "metadata": {},
   "outputs": [
    {
     "data": {
      "text/plain": [
       "false"
      ]
     },
     "execution_count": 6,
     "metadata": {},
     "output_type": "execute_result"
    }
   ],
   "source": [
    "prepared.setInt(1, 40);\n",
    "prepared.setString(2, \"Carlos\");\n",
    "prepared.execute();\n",
    "\n",
    "prepared.setInt(1, 47);\n",
    "prepared.setString(2, \"Josh\");\n",
    "prepared.execute();"
   ]
  },
  {
   "cell_type": "markdown",
   "metadata": {},
   "source": [
    "As you can see, we used the same `PreparedStatement` object to perform these insertions.\n",
    "Again we see `false` returned by `execute` since an `INSERT` statement does not produce results.\n",
    "Now let's run a simple query.\n",
    "Our query has no parameters, so we'll use the `executeQuery` method on the `Statement` object we created earlier."
   ]
  },
  {
   "cell_type": "code",
   "execution_count": 7,
   "metadata": {},
   "outputs": [],
   "source": [
    "import java.sql.ResultSet;\n",
    "\n",
    "ResultSet results = statement.executeQuery(\"SELECT * FROM user\");"
   ]
  },
  {
   "cell_type": "markdown",
   "metadata": {},
   "source": [
    "`executeQuery` returns an object of type [ResultSet](https://docs.oracle.com/javase/8/docs/api/java/sql/ResultSet.html).\n",
    "A `ResultSet` has a number of `get` methods to get values of columns in our results.\n",
    "(This is similar to the `set` methods on `PreparedStatement` objects).\n",
    "To get all the results, we loop until the `next` until the  returns `false`, which means we've hit the last row.\n",
    "Otherwise, `next` will advance our `results` object to the next row in the result.\n",
    "Note that you can only go through the results **once**.\n",
    "If you need to do multiple things with result, you'll either need to run the query again, or store the data somewhere else."
   ]
  },
  {
   "cell_type": "code",
   "execution_count": 8,
   "metadata": {},
   "outputs": [
    {
     "name": "stdout",
     "output_type": "stream",
     "text": [
      "32 | Neha\n",
      "40 | Carlos\n",
      "47 | Josh\n"
     ]
    }
   ],
   "source": [
    "while (results.next()) {\n",
    "  System.out.println(results.getInt(1) + \" | \" + results.getString(2));\n",
    "}"
   ]
  },
  {
   "cell_type": "markdown",
   "metadata": {},
   "source": [
    "That's it for this basic overview of SQL in Java.\n",
    "You should now be able to get started writing your own programs which interact with a database using this as a starting point.\n",
    "If you're just viewing the static output of this tutorial, go to [the repository](https://github.com/michaelmior/db-notebooks) and click the launch button.\n",
    "This will allow you to edit all the code interactively and try modifying it as you wish."
   ]
  }
 ],
 "metadata": {
  "kernelspec": {
   "display_name": "Java",
   "language": "java",
   "name": "java"
  },
  "language_info": {
   "codemirror_mode": "java",
   "file_extension": ".java",
   "mimetype": "text/x-java-source",
   "name": "Java",
   "pygments_lexer": "java",
   "version": "10.0.2+13"
  }
 },
 "nbformat": 4,
 "nbformat_minor": 2
}
